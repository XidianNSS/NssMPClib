{
 "cells": [
  {
   "cell_type": "markdown",
   "source": [
    "# Tutorial 3: Generate Beaver Triples by Homomorphic Encryption\n",
    "In `Tutorial 0`, it demonstrated how to generate Beaver triples in the offline phase using a trusted third party. In this tutorial, we will illustrate how two parties can collaboratively generate Beaver triples and MSB Beaver triples using homomorphic encryption.\n",
    "First, import the following packages:"
   ],
   "metadata": {
    "collapsed": false
   }
  },
  {
   "cell_type": "code",
   "execution_count": 1,
   "outputs": [],
   "source": [
    "# import libraries\n",
    "from model.mpc.semi_honest_party import SemiHonestCS\n",
    "from crypto.primitives.beaver.beaver_triples import BeaverTriples\n",
    "from crypto.primitives.beaver.msb_triples import MSBTriples"
   ],
   "metadata": {
    "collapsed": false,
    "ExecuteTime": {
     "end_time": "2024-03-21T11:21:41.207086Z",
     "start_time": "2024-03-21T11:21:39.075827Z"
    }
   }
  },
  {
   "cell_type": "markdown",
   "source": [
    "The SemiHonestCS is the computation parties, as explained in Tutorial 2. The BeaverTriples and MSBTriples are responsible for generating the corresponding Beaver triples and MSB triples, respectively. We will continue to use multiple threads to simulate the two parties."
   ],
   "metadata": {
    "collapsed": false
   }
  },
  {
   "cell_type": "code",
   "execution_count": 2,
   "outputs": [
    {
     "name": "stdout",
     "output_type": "stream",
     "text": [
      "TCPServer waiting for connection ......TCPServer waiting for connection ......\n",
      "\n",
      "successfully connect to server 127.0.0.1:20000\n",
      "TCPServer successfully connected by :('127.0.0.1', 8088)\n",
      "successfully connect to server 127.0.0.1:8089\n",
      "TCPServer successfully connected by :('127.0.0.1', 20001)\n"
     ]
    }
   ],
   "source": [
    "import threading\n",
    "\n",
    "# set Server\n",
    "server = SemiHonestCS(type='server')\n",
    "\n",
    "\n",
    "def set_server():\n",
    "    # CS connect\n",
    "    server.connect(('127.0.0.1', 8089), ('127.0.0.1', 8088), ('127.0.0.1', 20000), ('127.0.0.1', 20001))\n",
    "\n",
    "\n",
    "# set Client\n",
    "client = SemiHonestCS(type='client')\n",
    "\n",
    "\n",
    "def set_client():\n",
    "    # CS connect\n",
    "    client.connect(('127.0.0.1', 20000), ('127.0.0.1', 20001), ('127.0.0.1', 8089), ('127.0.0.1', 8088))\n",
    "\n",
    "\n",
    "server_thread = threading.Thread(target=set_server)\n",
    "client_thread = threading.Thread(target=set_client)\n",
    "\n",
    "server_thread.start()\n",
    "client_thread.start()\n",
    "client_thread.join()\n",
    "server_thread.join()"
   ],
   "metadata": {
    "collapsed": false,
    "ExecuteTime": {
     "end_time": "2024-03-21T11:21:41.284250Z",
     "start_time": "2024-03-21T11:21:41.208120Z"
    }
   }
  },
  {
   "cell_type": "markdown",
   "source": [
    "Generate the beaver triples"
   ],
   "metadata": {
    "collapsed": false
   }
  },
  {
   "cell_type": "code",
   "execution_count": 3,
   "outputs": [],
   "source": [
    "def server_gen_beaver():\n",
    "    BeaverTriples.gen_and_save(10, 2, 'HE', server)  # num_of_triples, num_of_party, protocol, party\n",
    "\n",
    "\n",
    "def client_gen_beaver():\n",
    "    BeaverTriples.gen_and_save(10, 2, 'HE', client)  # num_of_triples, num_of_party, protocol, party\n",
    "\n",
    "\n",
    "server_thread = threading.Thread(target=server_gen_beaver)\n",
    "client_thread = threading.Thread(target=client_gen_beaver)\n",
    "\n",
    "server_thread.start()\n",
    "client_thread.start()\n",
    "client_thread.join()\n",
    "server_thread.join()"
   ],
   "metadata": {
    "collapsed": false,
    "ExecuteTime": {
     "end_time": "2024-03-21T11:21:41.422323Z",
     "start_time": "2024-03-21T11:21:41.285295Z"
    }
   }
  },
  {
   "cell_type": "markdown",
   "source": [
    "Generate the MSB beaver triples"
   ],
   "metadata": {
    "collapsed": false
   }
  },
  {
   "cell_type": "code",
   "outputs": [],
   "source": [
    "def server_gen_msb_beaver():\n",
    "    MSBTriples.gen_and_save(10, 2, 'HE', server)\n",
    "\n",
    "\n",
    "def client_gen_msb_beaver():\n",
    "    MSBTriples.gen_and_save(10, 2, 'HE', client)\n",
    "\n",
    "\n",
    "server_thread = threading.Thread(target=server_gen_msb_beaver)\n",
    "client_thread = threading.Thread(target=client_gen_msb_beaver)\n",
    "\n",
    "server_thread.start()\n",
    "client_thread.start()\n",
    "client_thread.join()\n",
    "server_thread.join()"
   ],
   "metadata": {
    "collapsed": false,
    "ExecuteTime": {
     "end_time": "2024-03-21T11:21:41.437628Z",
     "start_time": "2024-03-21T11:21:41.423357Z"
    }
   },
   "execution_count": 4
  }
 ],
 "metadata": {
  "kernelspec": {
   "display_name": "Python 3",
   "language": "python",
   "name": "python3"
  },
  "language_info": {
   "codemirror_mode": {
    "name": "ipython",
    "version": 2
   },
   "file_extension": ".py",
   "mimetype": "text/x-python",
   "name": "python",
   "nbconvert_exporter": "python",
   "pygments_lexer": "ipython2",
   "version": "2.7.6"
  }
 },
 "nbformat": 4,
 "nbformat_minor": 0
}
